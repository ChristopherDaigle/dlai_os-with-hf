{
 "cells": [
  {
   "cell_type": "code",
   "execution_count": 1,
   "metadata": {},
   "outputs": [],
   "source": [
    "from transformers import pipeline, Conversation"
   ]
  },
  {
   "cell_type": "code",
   "execution_count": 2,
   "metadata": {},
   "outputs": [
    {
     "name": "stderr",
     "output_type": "stream",
     "text": [
      "/Users/christopherdaigle/Git/dlai_os-with-hf/.venv/lib/python3.10/site-packages/huggingface_hub/file_download.py:1132: FutureWarning: `resume_download` is deprecated and will be removed in version 1.0.0. Downloads always resume when possible. If you want to force a new download, use `force_download=True`.\n",
      "  warnings.warn(\n"
     ]
    }
   ],
   "source": [
    "chatbot = pipeline(task=\"conversational\",\n",
    "                   model=\"facebook/blenderbot-400m-distill\")"
   ]
  },
  {
   "cell_type": "code",
   "execution_count": 3,
   "metadata": {},
   "outputs": [],
   "source": [
    "user_message = \"\"\"\n",
    "What are some fun activities I can do in the winter?\n",
    "\"\"\""
   ]
  },
  {
   "cell_type": "code",
   "execution_count": 4,
   "metadata": {},
   "outputs": [
    {
     "name": "stderr",
     "output_type": "stream",
     "text": [
      "\n",
      "No chat template is defined for this tokenizer - using the default template for the BlenderbotTokenizerFast class. If the default is not appropriate for your model, please set `tokenizer.chat_template` to an appropriate template. See https://huggingface.co/docs/transformers/main/chat_templating for more information.\n",
      "\n"
     ]
    },
    {
     "name": "stdout",
     "output_type": "stream",
     "text": [
      "Conversation id: 164c52a4-7aa1-4a78-a364-79f30d07ad7c\n",
      "user: \n",
      "What are some fun activities I can do in the winter?\n",
      "\n",
      "\n",
      "========\n",
      "Conversation id: 164c52a4-7aa1-4a78-a364-79f30d07ad7c\n",
      "user: \n",
      "What are some fun activities I can do in the winter?\n",
      "\n",
      "assistant:  I like snowboarding and skiing.  What do you like to do in winter?\n",
      "\n"
     ]
    }
   ],
   "source": [
    "convo = Conversation(user_message)\n",
    "print(convo)\n",
    "print(\"=\"*8)\n",
    "convo = chatbot(convo)\n",
    "print(convo)"
   ]
  },
  {
   "cell_type": "code",
   "execution_count": 5,
   "metadata": {},
   "outputs": [
    {
     "name": "stdout",
     "output_type": "stream",
     "text": [
      "Conversation id: 164c52a4-7aa1-4a78-a364-79f30d07ad7c\n",
      "user: \n",
      "What are some fun activities I can do in the winter?\n",
      "\n",
      "assistant:  I like snowboarding and skiing.  What do you like to do in winter?\n",
      "assistant:  Snowboarding is a lot of fun. I like to ski and snowboard.\n",
      "\n"
     ]
    }
   ],
   "source": [
    "convo = chatbot(convo)\n",
    "print(convo)"
   ]
  },
  {
   "cell_type": "markdown",
   "metadata": {},
   "source": [
    "- You can continue the conversation with the chatbot with:\n",
    "```\n",
    "print(chatbot(Conversation(\"What else do you recommend?\")))\n",
    "```\n",
    "- However, the chatbot may provide an unrelated response because it does not have memory of any prior conversations.\n",
    "\n",
    "- To include prior conversations in the LLM's context, you can add a 'message' to include the previous chat history."
   ]
  },
  {
   "cell_type": "code",
   "execution_count": 6,
   "metadata": {},
   "outputs": [],
   "source": [
    "convo.add_message({\n",
    "    \"role\": \"user\",\n",
    "    \"content\": \"\"\"What else do you recommend?\"\"\"})"
   ]
  },
  {
   "cell_type": "code",
   "execution_count": 7,
   "metadata": {},
   "outputs": [
    {
     "name": "stdout",
     "output_type": "stream",
     "text": [
      "Conversation id: 164c52a4-7aa1-4a78-a364-79f30d07ad7c\n",
      "user: \n",
      "What are some fun activities I can do in the winter?\n",
      "\n",
      "assistant:  I like snowboarding and skiing.  What do you like to do in winter?\n",
      "assistant:  Snowboarding is a lot of fun. I like to ski and snowboard.\n",
      "user: What else do you recommend?\n",
      "\n"
     ]
    }
   ],
   "source": [
    "print(convo)"
   ]
  },
  {
   "cell_type": "code",
   "execution_count": 8,
   "metadata": {},
   "outputs": [
    {
     "name": "stdout",
     "output_type": "stream",
     "text": [
      "Conversation id: 164c52a4-7aa1-4a78-a364-79f30d07ad7c\n",
      "user: \n",
      "What are some fun activities I can do in the winter?\n",
      "\n",
      "assistant:  I like snowboarding and skiing.  What do you like to do in winter?\n",
      "assistant:  Snowboarding is a lot of fun. I like to ski and snowboard.\n",
      "user: What else do you recommend?\n",
      "assistant:  I also like to snowboard, ski, and surf. Do you have any other hobbies?\n",
      "\n"
     ]
    }
   ],
   "source": [
    "convo = chatbot(convo)\n",
    "print(convo)"
   ]
  },
  {
   "cell_type": "code",
   "execution_count": 9,
   "metadata": {},
   "outputs": [
    {
     "name": "stdout",
     "output_type": "stream",
     "text": [
      "Conversation id: 164c52a4-7aa1-4a78-a364-79f30d07ad7c\n",
      "user: \n",
      "What are some fun activities I can do in the winter?\n",
      "\n",
      "assistant:  I like snowboarding and skiing.  What do you like to do in winter?\n",
      "assistant:  Snowboarding is a lot of fun. I like to ski and snowboard.\n",
      "user: What else do you recommend?\n",
      "assistant:  I also like to snowboard, ski, and surf. Do you have any other hobbies?\n",
      "user: Surfing in winter sounds hard, can you suggest something else?\n",
      "assistant:  It is hard, but once you get the hang of it, it isn't so bad.\n",
      "\n"
     ]
    }
   ],
   "source": [
    "convo.add_message({\n",
    "    \"role\":\"user\",\n",
    "    \"content\":\"Surfing in winter sounds hard, can you suggest something else?\"})\n",
    "convo = chatbot(convo)\n",
    "print(convo)"
   ]
  },
  {
   "cell_type": "markdown",
   "metadata": {},
   "source": [
    "[Open LLM Leaderboard](https://huggingface.co/spaces/HuggingFaceH4/open_llm_leaderboard)\n",
    "\n",
    "[LMSYS Chatbot Arena Leaderboard](https://huggingface.co/spaces/lmsys/chatbot-arena-leaderboard)"
   ]
  },
  {
   "cell_type": "code",
   "execution_count": 20,
   "metadata": {},
   "outputs": [
    {
     "name": "stdout",
     "output_type": "stream",
     "text": [
      "Conversation id: c46403c0-5ac9-4ba2-bd23-1a3fd348a5ed\n",
      "user: \n",
      "What are some fun activities I can do in the winter?\n",
      "\n",
      "assistant:  I like snowboarding and skiing.  What do you like to do in winter?\n",
      "\n",
      "Conversation id: c46403c0-5ac9-4ba2-bd23-1a3fd348a5ed\n",
      "user: \n",
      "What are some fun activities I can do in the winter?\n",
      "\n",
      "assistant:  I like snowboarding and skiing.  What do you like to do in winter?\n",
      "user: What else do you recommend?\n",
      "assistant:  Snowboarding is a lot of fun.  You can do it indoors or outdoors.\n",
      "\n",
      "Conversation id: c46403c0-5ac9-4ba2-bd23-1a3fd348a5ed\n",
      "user: \n",
      "What are some fun activities I can do in the winter?\n",
      "\n",
      "assistant:  I like snowboarding and skiing.  What do you like to do in winter?\n",
      "user: What else do you recommend?\n",
      "assistant:  Snowboarding is a lot of fun.  You can do it indoors or outdoors.\n",
      "user: Anything else? Maybe something good in summer?\n",
      "assistant:  I like to snowboard in the mountains.  It's a lot more fun in the snow.\n",
      "\n"
     ]
    }
   ],
   "source": [
    "# Pulling it together in a single form\n",
    "user_message = \"\"\"\n",
    "What are some fun activities I can do in the winter?\n",
    "\"\"\"\n",
    "convo = Conversation(user_message)\n",
    "# print(convo)\n",
    "convo = chatbot(convo)\n",
    "print(convo)\n",
    "convo.add_message({\n",
    "    \"role\": \"user\",\n",
    "    \"content\": \"\"\"What else do you recommend?\"\"\"})\n",
    "convo = chatbot(convo)\n",
    "print(convo)\n",
    "convo.add_message({\n",
    "    \"role\": \"user\",\n",
    "    \"content\": \"\"\"Anything else? Maybe something good in summer?\"\"\"})\n",
    "convo = chatbot(convo)\n",
    "print(convo)"
   ]
  },
  {
   "cell_type": "code",
   "execution_count": 23,
   "metadata": {},
   "outputs": [
    {
     "name": "stdout",
     "output_type": "stream",
     "text": [
      "user: \n",
      "What are some fun activities I can do in the winter?\n",
      "\n",
      "assistant:  I like snowboarding and skiing.  What do you like to do in winter?\n",
      "user: What else do you recommend?\n",
      "assistant:  Snowboarding is a lot of fun.  You can do it indoors or outdoors.\n",
      "user: Anything else? Maybe something good in summer?\n",
      "assistant:  I like to snowboard in the mountains.  It's a lot more fun in the snow.\n"
     ]
    }
   ],
   "source": [
    "# Only return the latest entries\n",
    "user_message = \"\"\"\n",
    "What are some fun activities I can do in the winter?\n",
    "\"\"\"\n",
    "convo = Conversation(user_message)\n",
    "# print(convo)\n",
    "convo = chatbot(convo)\n",
    "print(f\"{convo[-2]['role']}: {convo[-2]['content']}\")\n",
    "print(f\"{convo[-1]['role']}: {convo[-1]['content']}\")\n",
    "convo.add_message({\n",
    "    \"role\": \"user\",\n",
    "    \"content\": \"\"\"What else do you recommend?\"\"\"})\n",
    "convo = chatbot(convo)\n",
    "print(f\"{convo[-2]['role']}: {convo[-2]['content']}\")\n",
    "print(f\"{convo[-1]['role']}: {convo[-1]['content']}\")\n",
    "convo.add_message({\n",
    "    \"role\": \"user\",\n",
    "    \"content\": \"\"\"Anything else? Maybe something good in summer?\"\"\"})\n",
    "convo = chatbot(convo)\n",
    "print(f\"{convo[-2]['role']}: {convo[-2]['content']}\")\n",
    "print(f\"{convo[-1]['role']}: {convo[-1]['content']}\")"
   ]
  },
  {
   "cell_type": "code",
   "execution_count": null,
   "metadata": {},
   "outputs": [],
   "source": []
  }
 ],
 "metadata": {
  "kernelspec": {
   "display_name": ".venv",
   "language": "python",
   "name": "python3"
  },
  "language_info": {
   "codemirror_mode": {
    "name": "ipython",
    "version": 3
   },
   "file_extension": ".py",
   "mimetype": "text/x-python",
   "name": "python",
   "nbconvert_exporter": "python",
   "pygments_lexer": "ipython3",
   "version": "3.10.9"
  }
 },
 "nbformat": 4,
 "nbformat_minor": 2
}
