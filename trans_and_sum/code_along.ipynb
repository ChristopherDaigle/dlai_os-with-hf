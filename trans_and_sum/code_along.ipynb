{
 "cells": [
  {
   "cell_type": "code",
   "execution_count": 1,
   "metadata": {},
   "outputs": [],
   "source": [
    "from transformers import pipeline\n",
    "import torch\n",
    "import gc"
   ]
  },
  {
   "cell_type": "code",
   "execution_count": 2,
   "metadata": {},
   "outputs": [
    {
     "name": "stderr",
     "output_type": "stream",
     "text": [
      "/Users/christopherdaigle/Git/dlai_os-with-hf/.venv/lib/python3.10/site-packages/huggingface_hub/file_download.py:1132: FutureWarning: `resume_download` is deprecated and will be removed in version 1.0.0. Downloads always resume when possible. If you want to force a new download, use `force_download=True`.\n",
      "  warnings.warn(\n"
     ]
    },
    {
     "data": {
      "application/vnd.jupyter.widget-view+json": {
       "model_id": "56287ee9128a4294a2d539bc727c9529",
       "version_major": 2,
       "version_minor": 0
      },
      "text/plain": [
       "config.json:   0%|          | 0.00/846 [00:00<?, ?B/s]"
      ]
     },
     "metadata": {},
     "output_type": "display_data"
    },
    {
     "data": {
      "application/vnd.jupyter.widget-view+json": {
       "model_id": "4132054d88f64d9691cdf71897b06c5a",
       "version_major": 2,
       "version_minor": 0
      },
      "text/plain": [
       "pytorch_model.bin:   0%|          | 0.00/2.46G [00:00<?, ?B/s]"
      ]
     },
     "metadata": {},
     "output_type": "display_data"
    },
    {
     "data": {
      "application/vnd.jupyter.widget-view+json": {
       "model_id": "c95cb6680ab34297b459f258600ce0d6",
       "version_major": 2,
       "version_minor": 0
      },
      "text/plain": [
       "generation_config.json:   0%|          | 0.00/189 [00:00<?, ?B/s]"
      ]
     },
     "metadata": {},
     "output_type": "display_data"
    },
    {
     "data": {
      "application/vnd.jupyter.widget-view+json": {
       "model_id": "78c4db61abfc40d7849c363ef874fa7a",
       "version_major": 2,
       "version_minor": 0
      },
      "text/plain": [
       "tokenizer_config.json:   0%|          | 0.00/564 [00:00<?, ?B/s]"
      ]
     },
     "metadata": {},
     "output_type": "display_data"
    },
    {
     "data": {
      "application/vnd.jupyter.widget-view+json": {
       "model_id": "d30da493711e413a89671d8dfe0c5b24",
       "version_major": 2,
       "version_minor": 0
      },
      "text/plain": [
       "sentencepiece.bpe.model:   0%|          | 0.00/4.85M [00:00<?, ?B/s]"
      ]
     },
     "metadata": {},
     "output_type": "display_data"
    },
    {
     "data": {
      "application/vnd.jupyter.widget-view+json": {
       "model_id": "c39c87b5238e433ab69ab581f35bf776",
       "version_major": 2,
       "version_minor": 0
      },
      "text/plain": [
       "tokenizer.json:   0%|          | 0.00/17.3M [00:00<?, ?B/s]"
      ]
     },
     "metadata": {},
     "output_type": "display_data"
    },
    {
     "data": {
      "application/vnd.jupyter.widget-view+json": {
       "model_id": "a6a4d1c25ae142589afb693a0db32d21",
       "version_major": 2,
       "version_minor": 0
      },
      "text/plain": [
       "special_tokens_map.json:   0%|          | 0.00/3.55k [00:00<?, ?B/s]"
      ]
     },
     "metadata": {},
     "output_type": "display_data"
    }
   ],
   "source": [
    "trans = pipeline(\n",
    "    task='translation', # here we indicate what we want to do with the pipeline\n",
    "    model=\"facebook/nllb-200-distilled-600M\", # this is a model \"no language left behind\", capable of translating 200 different languages\n",
    "    torch_dtype=torch.bfloat16) # torch_dtype compresses the model"
   ]
  },
  {
   "cell_type": "markdown",
   "metadata": {},
   "source": [
    "NLLB: No Language Left Behind: ['nllb-200-distilled-600M'](https://huggingface.co/facebook/nllb-200-distilled-600M)."
   ]
  },
  {
   "cell_type": "code",
   "execution_count": 3,
   "metadata": {},
   "outputs": [],
   "source": [
    "text_2_trans = \"\"\"\\\n",
    "I like economics, \\\n",
    "it mixes math and philosophy.\n",
    "Social sciences vary in their quanititative approaches.\n",
    "Some think economics as a field is excessivley quantitative and is more like astrology.\n",
    "I think if you understand assumptions of models and consider constraints, \\\n",
    "then the expectations of the models are more reasonable\"\"\""
   ]
  },
  {
   "cell_type": "code",
   "execution_count": 5,
   "metadata": {},
   "outputs": [],
   "source": [
    "trans_text = trans(\n",
    "    text_2_trans,\n",
    "    src_lang=\"eng_Latn\", # set the source language - english \n",
    "    tgt_lang=\"fra_Latn\")# set the target language - french"
   ]
  },
  {
   "cell_type": "markdown",
   "metadata": {},
   "source": [
    "To choose other languages, you can find the other language codes on the page: [Languages in FLORES-200](https://github.com/facebookresearch/flores/blob/main/flores200/README.md#languages-in-flores-200)\n",
    "\n",
    "For example:\n",
    "- Afrikaans: afr_Latn\n",
    "- Chinese: zho_Hans\n",
    "- Egyptian Arabic: arz_Arab\n",
    "- French: fra_Latn\n",
    "- German: deu_Latn\n",
    "- Greek: ell_Grek\n",
    "- Hindi: hin_Deva\n",
    "- Indonesian: ind_Latn\n",
    "- Italian: ita_Latn\n",
    "- Japanese: jpn_Jpan\n",
    "- Korean: kor_Hang\n",
    "- Persian: pes_Arab\n",
    "- Portuguese: por_Latn\n",
    "- Russian: rus_Cyrl\n",
    "- Spanish: spa_Latn\n",
    "- Swahili: swh_Latn\n",
    "- Thai: tha_Thai\n",
    "- Turkish: tur_Latn\n",
    "- Vietnamese: vie_Latn\n",
    "- Zulu: zul_Latn"
   ]
  },
  {
   "cell_type": "code",
   "execution_count": 6,
   "metadata": {},
   "outputs": [
    {
     "data": {
      "text/plain": [
       "[{'translation_text': \"Je suis un peu d'accord avec l'économie, elle mélange mathématiques et philosophie. Les sciences sociales varient dans leurs approches quantifiables. Certains pensent que l'économie en tant que domaine est excessivement quantitative et ressemble plus à l'astrologie.\"}]"
      ]
     },
     "execution_count": 6,
     "metadata": {},
     "output_type": "execute_result"
    }
   ],
   "source": [
    "trans_text"
   ]
  },
  {
   "cell_type": "code",
   "execution_count": 23,
   "metadata": {},
   "outputs": [
    {
     "name": "stdout",
     "output_type": "stream",
     "text": [
      "Original statement: I like economics, it mixes math and philosophy.\n",
      "Social sciences vary in their quanititative approaches.\n",
      "Some think economics as a field is excessivley quantitative and is more like astrology.\n",
      "I think if you understand assumptions of models and consider constraints, then the expectations of the models are more reasonable\n",
      "\n",
      "In French: Je suis un peu d'accord avec l'économie, elle mélange mathématiques et philosophie. Les sciences sociales varient dans leurs approches quantifiables. Certains pensent que l'économie en tant que domaine est excessivement quantitative et ressemble plus à l'astrologie.\n",
      "\n",
      "Return the French back to English\n",
      "Back to English: I agree with economics, it's a mix of math and philosophy, and social science has different quantifiable approaches, and some people think that economics as a field is too quantitative and more like astrology.\n"
     ]
    }
   ],
   "source": [
    "print(f\"Original statement: {text_2_trans}\")\n",
    "print()\n",
    "print(f\"In French: {trans_text[0]['translation_text']}\")\n",
    "print()\n",
    "print(\"Return the French back to English\")\n",
    "trans_text_bkwd = trans(\n",
    "    trans_text[0]['translation_text'],\n",
    "    src_lang=\"fra_Latn\", # set the source language - french\n",
    "    tgt_lang=\"eng_Latn\") # set the source language - english\n",
    "print(f\"Back to English: {trans_text_bkwd[0]['translation_text']}\")"
   ]
  },
  {
   "cell_type": "code",
   "execution_count": null,
   "metadata": {},
   "outputs": [],
   "source": []
  }
 ],
 "metadata": {
  "kernelspec": {
   "display_name": ".venv",
   "language": "python",
   "name": "python3"
  },
  "language_info": {
   "codemirror_mode": {
    "name": "ipython",
    "version": 3
   },
   "file_extension": ".py",
   "mimetype": "text/x-python",
   "name": "python",
   "nbconvert_exporter": "python",
   "pygments_lexer": "ipython3",
   "version": "3.10.9"
  }
 },
 "nbformat": 4,
 "nbformat_minor": 2
}
