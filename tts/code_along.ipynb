{
 "cells": [
  {
   "cell_type": "markdown",
   "id": "74f4ccc7-4a21-4b34-a624-4a3107dcbb25",
   "metadata": {},
   "source": [
    "# Text to speech"
   ]
  },
  {
   "cell_type": "code",
   "execution_count": null,
   "id": "57870bba-766f-43a6-b236-47c74e89e91c",
   "metadata": {},
   "outputs": [],
   "source": []
  }
 ],
 "metadata": {
  "kernelspec": {
   "display_name": "dlai_os_with_hf",
   "language": "python",
   "name": "dlai_os_with_hf"
  },
  "language_info": {
   "codemirror_mode": {
    "name": "ipython",
    "version": 3
   },
   "file_extension": ".py",
   "mimetype": "text/x-python",
   "name": "python",
   "nbconvert_exporter": "python",
   "pygments_lexer": "ipython3",
   "version": "3.10.9"
  }
 },
 "nbformat": 4,
 "nbformat_minor": 5
}
